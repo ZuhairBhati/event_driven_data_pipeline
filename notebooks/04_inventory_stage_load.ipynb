{
 "cells": [
  {
   "cell_type": "markdown",
   "metadata": {
    "application/vnd.databricks.v1+cell": {
     "cellMetadata": {},
     "inputWidgets": {},
     "nuid": "4ea0510b-eea3-4bb0-85b0-bbd57e17a9ac",
     "showTitle": false,
     "tableResultSettingsMap": {},
     "title": ""
    }
   },
   "source": [
    "# Inventory Data Stage Load\n",
    "This notebooks processes inventory data from source files and loads it into the staging table"
   ]
  },
  {
   "cell_type": "code",
   "execution_count": 0,
   "metadata": {
    "application/vnd.databricks.v1+cell": {
     "cellMetadata": {},
     "inputWidgets": {},
     "nuid": "3c54e4d4-e0d2-40c4-b2d2-a050edb19330",
     "showTitle": false,
     "tableResultSettingsMap": {},
     "title": ""
    }
   },
   "outputs": [],
   "source": [
    "# Configuration\n",
    "source_dir = \"/Volumes/external-catalog/default/incremental_load/inventory_data/source/\"\n",
    "archive_dir = \"/Volumes/external-catalog/default/incremental_load/inventory_data/archive/\"\n",
    "stage_table = \"`external-catalog`.default.inventory_stage\"\n",
    "error_table = \"`external-catalog`.default.inventory_errors\"\n",
    "\n",
    "print(f\"Processing inventory data from: {source_dir}\")\n",
    "print(f\"Staging Table: {stage_table}\")"
   ]
  },
  {
   "cell_type": "code",
   "execution_count": 0,
   "metadata": {
    "application/vnd.databricks.v1+cell": {
     "cellMetadata": {},
     "inputWidgets": {},
     "nuid": "de14003a-9b8d-4a11-a6a7-d4f65c2768bd",
     "showTitle": false,
     "tableResultSettingsMap": {},
     "title": ""
    }
   },
   "outputs": [],
   "source": [
    "# Import required libraries\n",
    "from pyspark.sql import functions as F\n",
    "from pyspark.sql.types import *\n",
    "from datetime import datetime\n",
    "import json\n",
    "\n",
    "# Define schema for inventory data\n",
    "inventory_schema = StructType([\n",
    "    StructField(\"inventory_id\", StringType(), False),\n",
    "    StructField(\"product_id\", StringType(), False),\n",
    "    StructField(\"warehouse_id\", StringType(), False),\n",
    "    StructField(\"warehouse_name\", StringType(), False),\n",
    "    StructField(\"location\", StringType(), False),\n",
    "    StructField(\"stock_quantity\", IntegerType(), False),\n",
    "    StructField(\"reserved_quantity\", IntegerType(), False),\n",
    "    StructField(\"available_quantity\", IntegerType(), False),\n",
    "    StructField(\"reorder_level\", IntegerType(), False),\n",
    "    StructField(\"last_restocked\", DateType(), False),\n",
    "    StructField(\"last_audit\", DateType(), False),\n",
    "    StructField(\"created_timestamp\", TimestampType(), False)\n",
    "])\n",
    "\n",
    "print(\"Schema defined for inventory data\")\n"
   ]
  },
  {
   "cell_type": "code",
   "execution_count": 0,
   "metadata": {
    "application/vnd.databricks.v1+cell": {
     "cellMetadata": {},
     "inputWidgets": {},
     "nuid": "f9c594e4-e8f1-41a2-bf9d-7ea7da68317b",
     "showTitle": false,
     "tableResultSettingsMap": {},
     "title": ""
    }
   },
   "outputs": [],
   "source": [
    "# Read and validate inventory data\n",
    "try:\n",
    "    # Read CSV files with schema validation\n",
    "    df_inventory = spark.read.schema(inventory_schema).csv(source_dir, header=True, dateFormat=\"yyyy-MM-dd\", timestampFormat=\"yyyy-MM-dd HH:mm:ss\")\n",
    "    \n",
    "    # Add processing metadata\n",
    "    df_inventory = df_inventory.withColumn(\"processed_timestamp\", F.current_timestamp()) \\\n",
    "                              .withColumn(\"batch_id\", F.lit(datetime.now().strftime(\"%Y%m%d_%H%M%S\"))) \\\n",
    "                              .withColumn(\"source_system\", F.lit(\"ecommerce_inventory\"))\n",
    "    \n",
    "    # Data quality checks\n",
    "    total_records = df_inventory.count()\n",
    "    null_inventory_ids = df_inventory.filter(F.col(\"inventory_id\").isNull()).count()\n",
    "    negative_stock = df_inventory.filter(F.col(\"stock_quantity\") < 0).count()\n",
    "    negative_reserved = df_inventory.filter(F.col(\"reserved_quantity\") < 0).count()\n",
    "    invalid_available = df_inventory.filter(F.col(\"available_quantity\") < 0).count()\n",
    "    \n",
    "    print(f\"Total records processed: {total_records}\")\n",
    "    print(f\"Records with null inventory_id: {null_inventory_ids}\")\n",
    "    print(f\"Records with negative stock: {negative_stock}\")\n",
    "    print(f\"Records with negative reserved: {negative_reserved}\")\n",
    "    print(f\"Records with invalid available: {invalid_available}\")\n",
    "    \n",
    "    # Filter out invalid records - Fixed boolean logic\n",
    "    df_valid_inventory = df_inventory.filter(\n",
    "        (F.col(\"inventory_id\").isNotNull()) & \n",
    "        (F.col(\"stock_quantity\") >= 0) & \n",
    "        (F.col(\"reserved_quantity\") >= 0) & \n",
    "        (F.col(\"available_quantity\") >= 0)\n",
    "    )\n",
    "    \n",
    "    # Capture invalid records for error handling - Fixed boolean logic\n",
    "    df_invalid_inventory = df_inventory.filter(\n",
    "        (F.col(\"inventory_id\").isNull()) | \n",
    "        (F.col(\"stock_quantity\") < 0) | \n",
    "        (F.col(\"reserved_quantity\") < 0) | \n",
    "        (F.col(\"available_quantity\") < 0)\n",
    "    )\n",
    "    \n",
    "    valid_records = df_valid_inventory.count()\n",
    "    invalid_records = df_invalid_inventory.count()\n",
    "    \n",
    "    print(f\"Valid records: {valid_records}\")\n",
    "    print(f\"Invalid records: {invalid_records}\")\n",
    "    \n",
    "except Exception as e:\n",
    "    print(f\"Error reading inventory data: {str(e)}\")\n",
    "    raise\n"
   ]
  },
  {
   "cell_type": "code",
   "execution_count": 0,
   "metadata": {
    "application/vnd.databricks.v1+cell": {
     "cellMetadata": {},
     "inputWidgets": {},
     "nuid": "f0fedc3b-ca35-4df3-8a8f-395cf54aa0b3",
     "showTitle": false,
     "tableResultSettingsMap": {},
     "title": ""
    }
   },
   "outputs": [],
   "source": [
    "# Data enrichment - Inventory analytics\n",
    "try:\n",
    "    # Calculate inventory turnover metrics\n",
    "    df_valid_inventory = df_valid_inventory.withColumn(\n",
    "        \"stock_utilization_rate\",\n",
    "        F.when(F.col(\"stock_quantity\") > 0, F.col(\"reserved_quantity\") / F.col(\"stock_quantity\"))\n",
    "         .otherwise(F.lit(0))\n",
    "    )\n",
    "    \n",
    "    # Create stock status categories\n",
    "    df_valid_inventory = df_valid_inventory.withColumn(\n",
    "        \"stock_status\",\n",
    "        F.when(F.col(\"available_quantity\") == 0, \"Out of Stock\")\n",
    "         .when(F.col(\"available_quantity\") <= F.col(\"reorder_level\"), \"Reorder Required\")\n",
    "         .when(F.col(\"available_quantity\") <= F.col(\"reorder_level\") * 2, \"Low Stock\")\n",
    "         .otherwise(\"In Stock\")\n",
    "    )\n",
    "    \n",
    "    # Calculate days since last restock\n",
    "    df_valid_inventory = df_valid_inventory.withColumn(\n",
    "        \"days_since_restock\",\n",
    "        F.datediff(F.current_date(), F.col(\"last_restocked\"))\n",
    "    )\n",
    "    \n",
    "    # Calculate days since last audit\n",
    "    df_valid_inventory = df_valid_inventory.withColumn(\n",
    "        \"days_since_audit\",\n",
    "        F.datediff(F.current_date(), F.col(\"last_audit\"))\n",
    "    )\n",
    "    \n",
    "    # Create audit status\n",
    "    df_valid_inventory = df_valid_inventory.withColumn(\n",
    "        \"audit_status\",\n",
    "        F.when(F.col(\"days_since_audit\") > 90, \"Overdue\")\n",
    "         .when(F.col(\"days_since_audit\") > 60, \"Due Soon\")\n",
    "         .otherwise(\"Current\")\n",
    "    )\n",
    "    \n",
    "    print(\"Data enrichment completed\")\n",
    "    \n",
    "except Exception as e:\n",
    "    print(f\"Error in data enrichment: {str(e)}\")\n",
    "    raise\n"
   ]
  },
  {
   "cell_type": "code",
   "execution_count": 0,
   "metadata": {
    "application/vnd.databricks.v1+cell": {
     "cellMetadata": {},
     "inputWidgets": {},
     "nuid": "37cf6660-f707-4d85-809d-8ba5aeeaa222",
     "showTitle": false,
     "tableResultSettingsMap": {},
     "title": ""
    }
   },
   "outputs": [],
   "source": [
    "# Write valid data to staging table\n",
    "try:\n",
    "    # Create or overwrite staging table\n",
    "    df_valid_inventory.write.format(\"delta\").mode(\"overwrite\").saveAsTable(stage_table)\n",
    "    print(f\"Successfully loaded {valid_records} valid inventory records to staging table\")\n",
    "    \n",
    "    # Write invalid records to error table for investigation\n",
    "    if invalid_records > 0:\n",
    "        df_invalid_inventory.withColumn(\"error_reason\", F.lit(\"Data quality validation failed\")) \\\n",
    "                           .withColumn(\"error_timestamp\", F.current_timestamp()) \\\n",
    "                           .write.format(\"delta\").mode(\"append\").saveAsTable(error_table)\n",
    "        print(f\"Logged {invalid_records} invalid records to error table\")\n",
    "    \n",
    "except Exception as e:\n",
    "    print(f\"Error writing to staging table: {str(e)}\")\n",
    "    raise\n"
   ]
  },
  {
   "cell_type": "code",
   "execution_count": 0,
   "metadata": {
    "application/vnd.databricks.v1+cell": {
     "cellMetadata": {},
     "inputWidgets": {},
     "nuid": "9a6888fc-c2a4-4d34-89eb-f5bdf7d534f0",
     "showTitle": false,
     "tableResultSettingsMap": {},
     "title": ""
    }
   },
   "outputs": [],
   "source": [
    "# Archive processed files\n",
    "try:\n",
    "    # List all files in the source directory\n",
    "    files = dbutils.fs.ls(source_dir)\n",
    "    \n",
    "    archived_count = 0\n",
    "    for file in files:\n",
    "        if file.name.endswith('.csv'):\n",
    "            src_path = file.path\n",
    "            archive_path = archive_dir + file.name\n",
    "            \n",
    "            # Move the file to archive\n",
    "            dbutils.fs.mv(src_path, archive_path)\n",
    "            archived_count += 1\n",
    "            print(f\"Archived: {file.name}\")\n",
    "    \n",
    "    print(f\"Successfully archived {archived_count} files\")\n",
    "    \n",
    "except Exception as e:\n",
    "    print(f\"Error archiving files: {str(e)}\")\n",
    "    raise\n"
   ]
  },
  {
   "cell_type": "code",
   "execution_count": 0,
   "metadata": {
    "application/vnd.databricks.v1+cell": {
     "cellMetadata": {},
     "inputWidgets": {},
     "nuid": "b6dcfa1d-1513-4cae-8a60-f3ca424a8b57",
     "showTitle": false,
     "tableResultSettingsMap": {},
     "title": ""
    }
   },
   "outputs": [],
   "source": [
    "# Log processing summary\n",
    "processing_summary = {\n",
    "    \"task\": \"inventory_stage_load\",\n",
    "    \"timestamp\": datetime.now().isoformat(),\n",
    "    \"total_records\": total_records,\n",
    "    \"valid_records\": valid_records,\n",
    "    \"invalid_records\": invalid_records,\n",
    "    \"archived_files\": archived_count,\n",
    "    \"status\": \"SUCCESS\" if invalid_records == 0 else \"SUCCESS_WITH_WARNINGS\"\n",
    "}\n",
    "\n",
    "print(\"Processing Summary:\")\n",
    "print(json.dumps(processing_summary, indent=2))\n",
    "\n",
    "# Store summary in a table for monitoring\n",
    "summary_df = spark.createDataFrame([processing_summary])\n",
    "summary_df.write.format(\"delta\").mode(\"append\").saveAsTable(\"`external-catalog`.default.processing_log\")\n"
   ]
  }
 ],
 "metadata": {
  "application/vnd.databricks.v1+notebook": {
   "computePreferences": null,
   "dashboards": [],
   "environmentMetadata": {
    "base_environment": "",
    "environment_version": "3"
   },
   "inputWidgetPreferences": null,
   "language": "python",
   "notebookMetadata": {
    "pythonIndentUnit": 4
   },
   "notebookName": "04_inventory_stage_load",
   "widgets": {}
  },
  "language_info": {
   "name": "python"
  }
 },
 "nbformat": 4,
 "nbformat_minor": 0
}