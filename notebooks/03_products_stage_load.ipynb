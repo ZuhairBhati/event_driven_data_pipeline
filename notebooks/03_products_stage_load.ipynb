{
 "cells": [
  {
   "cell_type": "markdown",
   "metadata": {
    "application/vnd.databricks.v1+cell": {
     "cellMetadata": {},
     "inputWidgets": {},
     "nuid": "c8ae46c7-6ecc-4e70-a64e-402267535b6b",
     "showTitle": false,
     "tableResultSettingsMap": {},
     "title": ""
    }
   },
   "source": [
    "# Products Data Stage Load\n",
    "This notebooks processes products data from source files and loads it into the staging table"
   ]
  },
  {
   "cell_type": "code",
   "execution_count": 0,
   "metadata": {
    "application/vnd.databricks.v1+cell": {
     "cellMetadata": {},
     "inputWidgets": {},
     "nuid": "94bbbd49-a6f7-44f6-a7e9-813cd75b2f39",
     "showTitle": false,
     "tableResultSettingsMap": {},
     "title": ""
    }
   },
   "outputs": [],
   "source": [
    "# Configuration\n",
    "source_dir = \"/Volumes/external-catalog/default/incremental_load/products_data/source/\"\n",
    "archive_dir = \"/Volumes/external-catalog/default/incremental_load/products_data/archive/\"\n",
    "stage_table = \"`external-catalog`.default.products_stage\"\n",
    "error_table = \"`external-catalog`.default.products_errors\"\n",
    "\n",
    "print(f\"Processing products data from: {source_dir}\")\n",
    "print(f\"Staging Table: {stage_table}\")"
   ]
  },
  {
   "cell_type": "code",
   "execution_count": 0,
   "metadata": {
    "application/vnd.databricks.v1+cell": {
     "cellMetadata": {},
     "inputWidgets": {},
     "nuid": "d0bca48c-e0c5-4c36-ad45-b6e6cabe9cef",
     "showTitle": false,
     "tableResultSettingsMap": {},
     "title": ""
    }
   },
   "outputs": [],
   "source": [
    "# Import required libraries\n",
    "from pyspark.sql import functions as F\n",
    "from pyspark.sql.types import *\n",
    "from datetime import datetime\n",
    "import json\n",
    "\n",
    "# Define schema for products data\n",
    "products_schema = StructType([\n",
    "    StructField(\"product_id\", StringType(), False),\n",
    "    StructField(\"product_name\", StringType(), False),\n",
    "    StructField(\"category\", StringType(), False),\n",
    "    StructField(\"subcategory\", StringType(), False),\n",
    "    StructField(\"brand\", StringType(), False),\n",
    "    StructField(\"price\", DecimalType(10,2), False),\n",
    "    StructField(\"currency\", StringType(), False),\n",
    "    StructField(\"stock_quantity\", IntegerType(), False),\n",
    "    StructField(\"weight_kg\", DecimalType(8,2), False),\n",
    "    StructField(\"dimensions_cm\", StringType(), False),\n",
    "    StructField(\"color\", StringType(), False),\n",
    "    StructField(\"material\", StringType(), False),\n",
    "    StructField(\"description\", StringType(), False),\n",
    "    StructField(\"launch_date\", DateType(), False),\n",
    "    StructField(\"discontinued\", BooleanType(), False),\n",
    "    StructField(\"created_timestamp\", TimestampType(), False)\n",
    "])\n",
    "\n",
    "print(\"Schema defined for products data\")\n"
   ]
  },
  {
   "cell_type": "code",
   "execution_count": 0,
   "metadata": {
    "application/vnd.databricks.v1+cell": {
     "cellMetadata": {},
     "inputWidgets": {},
     "nuid": "3afcb4d0-0a7e-4754-bc8a-ec3ebb1b2d76",
     "showTitle": false,
     "tableResultSettingsMap": {},
     "title": ""
    }
   },
   "outputs": [],
   "source": [
    "# Read and validate products data\n",
    "try:\n",
    "    # Read CSV files with schema validation\n",
    "    df_products = spark.read.schema(products_schema).csv(source_dir, header=True, dateFormat=\"yyyy-MM-dd\", timestampFormat=\"yyyy-MM-dd HH:mm:ss\")\n",
    "    \n",
    "    # Add processing metadata\n",
    "    df_products = df_products.withColumn(\"processed_timestamp\", F.current_timestamp()) \\\n",
    "                            .withColumn(\"batch_id\", F.lit(datetime.now().strftime(\"%Y%m%d_%H%M%S\"))) \\\n",
    "                            .withColumn(\"source_system\", F.lit(\"ecommerce_products\"))\n",
    "    \n",
    "    # Data quality checks\n",
    "    total_records = df_products.count()\n",
    "    null_product_ids = df_products.filter(F.col(\"product_id\").isNull()).count()\n",
    "    invalid_prices = df_products.filter(F.col(\"price\") <= 0).count()\n",
    "    negative_stock = df_products.filter(F.col(\"stock_quantity\") < 0).count()\n",
    "    future_launch_dates = df_products.filter(F.col(\"launch_date\") > F.current_date()).count()\n",
    "    \n",
    "    print(f\"Total records processed: {total_records}\")\n",
    "    print(f\"Records with null product_id: {null_product_ids}\")\n",
    "    print(f\"Records with invalid prices: {invalid_prices}\")\n",
    "    print(f\"Records with negative stock: {negative_stock}\")\n",
    "    print(f\"Records with future launch dates: {future_launch_dates}\")\n",
    "    \n",
    "    # Filter out invalid records - Fixed boolean logic\n",
    "    df_valid_products = df_products.filter(\n",
    "        (F.col(\"product_id\").isNotNull()) & \n",
    "        (F.col(\"price\") > 0) & \n",
    "        (F.col(\"stock_quantity\") >= 0) & \n",
    "        (F.col(\"launch_date\") <= F.current_date())\n",
    "    )\n",
    "    \n",
    "    # Capture invalid records for error handling - Fixed boolean logic\n",
    "    df_invalid_products = df_products.filter(\n",
    "        (F.col(\"product_id\").isNull()) | \n",
    "        (F.col(\"price\") <= 0) | \n",
    "        (F.col(\"stock_quantity\") < 0) | \n",
    "        (F.col(\"launch_date\") > F.current_date())\n",
    "    )\n",
    "    \n",
    "    valid_records = df_valid_products.count()\n",
    "    invalid_records = df_invalid_products.count()\n",
    "    \n",
    "    print(f\"Valid records: {valid_records}\")\n",
    "    print(f\"Invalid records: {invalid_records}\")\n",
    "    \n",
    "except Exception as e:\n",
    "    print(f\"Error reading products data: {str(e)}\")\n",
    "    raise\n"
   ]
  },
  {
   "cell_type": "code",
   "execution_count": 0,
   "metadata": {
    "application/vnd.databricks.v1+cell": {
     "cellMetadata": {},
     "inputWidgets": {},
     "nuid": "fc1711b9-b367-4591-b95a-0a2a124a8426",
     "showTitle": false,
     "tableResultSettingsMap": {},
     "title": ""
    }
   },
   "outputs": [],
   "source": [
    "# Data enrichment - Product categorization and pricing analysis\n",
    "try:\n",
    "    # Create price segments\n",
    "    df_valid_products = df_valid_products.withColumn(\n",
    "        \"price_segment\",\n",
    "        F.when(F.col(\"price\") < 50, \"Budget\")\n",
    "         .when(F.col(\"price\") < 150, \"Mid-range\")\n",
    "         .when(F.col(\"price\") < 300, \"Premium\")\n",
    "         .otherwise(\"Luxury\")\n",
    "    )\n",
    "    \n",
    "    # Create stock status\n",
    "    df_valid_products = df_valid_products.withColumn(\n",
    "        \"stock_status\",\n",
    "        F.when(F.col(\"stock_quantity\") == 0, \"Out of Stock\")\n",
    "         .when(F.col(\"stock_quantity\") < 10, \"Low Stock\")\n",
    "         .when(F.col(\"stock_quantity\") < 50, \"Medium Stock\")\n",
    "         .otherwise(\"High Stock\")\n",
    "    )\n",
    "    \n",
    "    # Calculate days since launch\n",
    "    df_valid_products = df_valid_products.withColumn(\n",
    "        \"days_since_launch\",\n",
    "        F.datediff(F.current_date(), F.col(\"launch_date\"))\n",
    "    )\n",
    "    \n",
    "    # Create product lifecycle stage\n",
    "    df_valid_products = df_valid_products.withColumn(\n",
    "        \"lifecycle_stage\",\n",
    "        F.when(F.col(\"days_since_launch\") < 30, \"New\")\n",
    "         .when(F.col(\"days_since_launch\") < 365, \"Growth\")\n",
    "         .when(F.col(\"discontinued\") == True, \"Discontinued\")\n",
    "         .otherwise(\"Mature\")\n",
    "    )\n",
    "    \n",
    "    # Parse dimensions and calculate volume\n",
    "    df_valid_products = df_valid_products.withColumn(\n",
    "        \"dimensions_array\", \n",
    "        F.split(F.col(\"dimensions_cm\"), \"x\")\n",
    "    )\n",
    "    \n",
    "    # Calculate volume (assuming dimensions are in format \"LxWxH\")\n",
    "    df_valid_products = df_valid_products.withColumn(\n",
    "        \"volume_cm3\",\n",
    "        F.when(F.size(F.col(\"dimensions_array\")) == 3,\n",
    "               F.col(\"dimensions_array\")[0].cast(\"double\") * \n",
    "               F.col(\"dimensions_array\")[1].cast(\"double\") * \n",
    "               F.col(\"dimensions_array\")[2].cast(\"double\"))\n",
    "         .otherwise(F.lit(0))\n",
    "    )\n",
    "    \n",
    "    # Calculate density (weight/volume)\n",
    "    df_valid_products = df_valid_products.withColumn(\n",
    "        \"density_kg_per_cm3\",\n",
    "        F.when(F.col(\"volume_cm3\") > 0, F.col(\"weight_kg\") / F.col(\"volume_cm3\"))\n",
    "         .otherwise(F.lit(0))\n",
    "    )\n",
    "    \n",
    "    print(\"Data enrichment completed\")\n",
    "    \n",
    "except Exception as e:\n",
    "    print(f\"Error in data enrichment: {str(e)}\")\n",
    "    raise\n"
   ]
  },
  {
   "cell_type": "code",
   "execution_count": 0,
   "metadata": {
    "application/vnd.databricks.v1+cell": {
     "cellMetadata": {},
     "inputWidgets": {},
     "nuid": "ded636da-3c33-4ce8-a8c1-d99e579672b3",
     "showTitle": false,
     "tableResultSettingsMap": {},
     "title": ""
    }
   },
   "outputs": [],
   "source": [
    "# Write valid data to staging table\n",
    "try:\n",
    "    # Create or overwrite staging table\n",
    "    df_valid_products.write.format(\"delta\").mode(\"overwrite\").saveAsTable(stage_table)\n",
    "    print(f\"Successfully loaded {valid_records} valid products to staging table\")\n",
    "    \n",
    "    # Write invalid records to error table for investigation\n",
    "    if invalid_records > 0:\n",
    "        df_invalid_products.withColumn(\"error_reason\", F.lit(\"Data quality validation failed\")) \\\n",
    "                          .withColumn(\"error_timestamp\", F.current_timestamp()) \\\n",
    "                          .write.format(\"delta\").mode(\"append\").saveAsTable(error_table)\n",
    "        print(f\"Logged {invalid_records} invalid records to error table\")\n",
    "    \n",
    "except Exception as e:\n",
    "    print(f\"Error writing to staging table: {str(e)}\")\n",
    "    raise\n"
   ]
  },
  {
   "cell_type": "code",
   "execution_count": 0,
   "metadata": {
    "application/vnd.databricks.v1+cell": {
     "cellMetadata": {},
     "inputWidgets": {},
     "nuid": "13b05f0d-5971-4ad5-91fc-e7129c80ad96",
     "showTitle": false,
     "tableResultSettingsMap": {},
     "title": ""
    }
   },
   "outputs": [],
   "source": [
    "# Archive processed files\n",
    "try:\n",
    "    # List all files in the source directory\n",
    "    files = dbutils.fs.ls(source_dir)\n",
    "    \n",
    "    archived_count = 0\n",
    "    for file in files:\n",
    "        if file.name.endswith('.csv'):\n",
    "            src_path = file.path\n",
    "            archive_path = archive_dir + file.name\n",
    "            \n",
    "            # Move the file to archive\n",
    "            dbutils.fs.mv(src_path, archive_path)\n",
    "            archived_count += 1\n",
    "            print(f\"Archived: {file.name}\")\n",
    "    \n",
    "    print(f\"Successfully archived {archived_count} files\")\n",
    "    \n",
    "except Exception as e:\n",
    "    print(f\"Error archiving files: {str(e)}\")\n",
    "    raise\n"
   ]
  },
  {
   "cell_type": "code",
   "execution_count": 0,
   "metadata": {
    "application/vnd.databricks.v1+cell": {
     "cellMetadata": {},
     "inputWidgets": {},
     "nuid": "20e5a218-b6b9-4dd2-98c4-566d85fbba4d",
     "showTitle": false,
     "tableResultSettingsMap": {},
     "title": ""
    }
   },
   "outputs": [],
   "source": [
    "# Log processing summary\n",
    "processing_summary = {\n",
    "    \"task\": \"products_stage_load\",\n",
    "    \"timestamp\": datetime.now().isoformat(),\n",
    "    \"total_records\": total_records,\n",
    "    \"valid_records\": valid_records,\n",
    "    \"invalid_records\": invalid_records,\n",
    "    \"archived_files\": archived_count,\n",
    "    \"status\": \"SUCCESS\" if invalid_records == 0 else \"SUCCESS_WITH_WARNINGS\"\n",
    "}\n",
    "\n",
    "print(\"Processing Summary:\")\n",
    "print(json.dumps(processing_summary, indent=2))\n",
    "\n",
    "# Store summary in a table for monitoring\n",
    "summary_df = spark.createDataFrame([processing_summary])\n",
    "summary_df.write.format(\"delta\").mode(\"append\").saveAsTable(\"`external-catalog`.default.processing_log\")\n"
   ]
  }
 ],
 "metadata": {
  "application/vnd.databricks.v1+notebook": {
   "computePreferences": null,
   "dashboards": [],
   "environmentMetadata": {
    "base_environment": "",
    "environment_version": "3"
   },
   "inputWidgetPreferences": null,
   "language": "python",
   "notebookMetadata": {
    "pythonIndentUnit": 4
   },
   "notebookName": "03_products_stage_load",
   "widgets": {}
  },
  "language_info": {
   "name": "python"
  }
 },
 "nbformat": 4,
 "nbformat_minor": 0
}