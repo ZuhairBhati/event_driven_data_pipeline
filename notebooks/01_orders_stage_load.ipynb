{
 "cells": [
  {
   "cell_type": "markdown",
   "metadata": {
    "application/vnd.databricks.v1+cell": {
     "cellMetadata": {},
     "inputWidgets": {},
     "nuid": "1a6bedb9-6ed9-4b17-9de1-51193d0f5810",
     "showTitle": false,
     "tableResultSettingsMap": {},
     "title": ""
    }
   },
   "source": [
    "# Orders Data Stage Load\n",
    "This notebooks processes orders data from source files and loads it into the staging table"
   ]
  },
  {
   "cell_type": "code",
   "execution_count": 0,
   "metadata": {
    "application/vnd.databricks.v1+cell": {
     "cellMetadata": {},
     "inputWidgets": {},
     "nuid": "ed6e1655-bfca-47d5-964f-f4e49894bffa",
     "showTitle": false,
     "tableResultSettingsMap": {},
     "title": ""
    },
    "jupyter": {
     "outputs_hidden": true
    }
   },
   "outputs": [],
   "source": [
    "source_dir = \"/Volumes/external-catalog/default/incremental_load/orders_data/source/\"\n",
    "archive_dir = \"/Volumes/external-catalog/default/incremental_load/orders_data/archive/\"\n",
    "stage_table = \"`external-catalog`.default.orders_stage\"\n",
    "error_table = \"`external-catalog`.default.orders_errors\"\n",
    "\n",
    "print(f\"Processing orders data from: {source_dir}\")\n",
    "print(f\"Staging Table: {stage_table}\")"
   ]
  },
  {
   "cell_type": "code",
   "execution_count": 0,
   "metadata": {
    "application/vnd.databricks.v1+cell": {
     "cellMetadata": {},
     "inputWidgets": {},
     "nuid": "ca67fb47-c4d2-4f6a-b1fd-c7c6acea10c3",
     "showTitle": false,
     "tableResultSettingsMap": {},
     "title": ""
    }
   },
   "outputs": [],
   "source": [
    "# Importing requried libraries\n",
    "from pyspark.sql import functions as F\n",
    "from pyspark.sql.types import *\n",
    "from datetime import datetime\n",
    "import json\n",
    "\n",
    "# Defining schema for the orders data\n",
    "orders_schema = StructType([\n",
    "  StructField(\"order_id\", StringType(), False),\n",
    "  StructField(\"customer_id\", StringType(), False),\n",
    "  StructField(\"product_id\", StringType(), False),\n",
    "  StructField(\"order_date\", DateType(), False),\n",
    "  StructField(\"order_amount\", DecimalType(), False),\n",
    "  StructField(\"currency\", StringType(), False),\n",
    "  StructField(\"payment_method\", StringType(), False),\n",
    "  StructField(\"shipping_address\", StringType(), False),\n",
    "  StructField(\"order_status\", StringType(), False),\n",
    "  StructField(\"created_timestamp\", TimestampType(), False)\n",
    "])\n",
    "\n",
    "print(\"Schema defined for the orders data\")"
   ]
  },
  {
   "cell_type": "code",
   "execution_count": 0,
   "metadata": {
    "application/vnd.databricks.v1+cell": {
     "cellMetadata": {},
     "inputWidgets": {},
     "nuid": "c28ab4ff-a09c-4cc6-8e8a-fcca041e5154",
     "showTitle": false,
     "tableResultSettingsMap": {},
     "title": ""
    }
   },
   "outputs": [],
   "source": [
    "# Read and validate orders data\n",
    "try:\n",
    "    # Read CSV files with schema validation\n",
    "    df_orders = spark.read.schema(orders_schema).csv(source_dir, header=True, dateFormat=\"yyyy-MM-dd\", timestampFormat=\"yyyy-MM-dd HH:mm:ss\")\n",
    "    \n",
    "    # Add processing metadata\n",
    "    df_orders = df_orders.withColumn(\"processed_timestamp\", F.current_timestamp()) \\\n",
    "                        .withColumn(\"batch_id\", F.lit(datetime.now().strftime(\"%Y%m%d_%H%M%S\"))) \\\n",
    "                        .withColumn(\"source_system\", F.lit(\"ecommerce_orders\"))\n",
    "    \n",
    "    # Data quality checks\n",
    "    total_records = df_orders.count()\n",
    "    null_order_ids = df_orders.filter(F.col(\"order_id\").isNull()).count()\n",
    "    null_customer_ids = df_orders.filter(F.col(\"customer_id\").isNull()).count()\n",
    "    invalid_amounts = df_orders.filter(F.col(\"order_amount\") <= 0).count()\n",
    "    \n",
    "    print(f\"Total records processed: {total_records}\")\n",
    "    print(f\"Records with null order_id: {null_order_ids}\")\n",
    "    print(f\"Records with null customer_id: {null_customer_ids}\")\n",
    "    print(f\"Records with invalid amounts: {invalid_amounts}\")\n",
    "\n",
    "    # Filter out valid records - Fixed boolean logic\n",
    "    df_valid_orders = df_orders.filter(\n",
    "        (F.col(\"order_id\").isNotNull()) & \n",
    "        (F.col(\"customer_id\").isNotNull()) & \n",
    "        (F.col(\"order_amount\") > 0)\n",
    "    )\n",
    "    \n",
    "    # Capture invalid records for error handling - Fixed boolean logic\n",
    "    df_invalid_orders = df_orders.filter(\n",
    "        (F.col(\"order_id\").isNull()) | \n",
    "        (F.col(\"customer_id\").isNull()) | \n",
    "        (F.col(\"order_amount\") <= 0)\n",
    "    )\n",
    "    \n",
    "    valid_records = df_valid_orders.count()\n",
    "    invalid_records = df_invalid_orders.count()\n",
    "    \n",
    "    print(f\"Valid records: {valid_records}\")\n",
    "    print(f\"Invalid records: {invalid_records}\")\n",
    "\n",
    "except Exception as e:\n",
    "    print(f\"Error reading orders data: {str(e)}\")\n",
    "    raise\n"
   ]
  },
  {
   "cell_type": "code",
   "execution_count": 0,
   "metadata": {
    "application/vnd.databricks.v1+cell": {
     "cellMetadata": {},
     "inputWidgets": {},
     "nuid": "fb15342f-4b86-43b1-b786-5c434f012835",
     "showTitle": false,
     "tableResultSettingsMap": {},
     "title": ""
    }
   },
   "outputs": [],
   "source": [
    "# Write valid data to staging table\n",
    "try:\n",
    "    # Create or overwrite staging table\n",
    "    df_valid_orders.write.format(\"delta\").mode(\"overwrite\").saveAsTable(stage_table)\n",
    "    print(f\"Successfully loaded {valid_records} valid orders to staging table\")\n",
    "    \n",
    "    # Write invalid records to error table for investigation\n",
    "    if invalid_records > 0:\n",
    "        df_invalid_orders.withColumn(\"error_reason\", F.lit(\"Data quality validation failed\")) \\\n",
    "                        .withColumn(\"error_timestamp\", F.current_timestamp()) \\\n",
    "                        .write.format(\"delta\").mode(\"append\").saveAsTable(error_table)\n",
    "        print(f\"Logged {invalid_records} invalid records to error table\")\n",
    "    \n",
    "except Exception as e:\n",
    "    print(f\"Error writing to staging table: {str(e)}\")\n",
    "    raise\n"
   ]
  },
  {
   "cell_type": "code",
   "execution_count": 0,
   "metadata": {
    "application/vnd.databricks.v1+cell": {
     "cellMetadata": {},
     "inputWidgets": {},
     "nuid": "9c01ccde-a4ae-49b9-b0a9-5d19c8573290",
     "showTitle": false,
     "tableResultSettingsMap": {},
     "title": ""
    }
   },
   "outputs": [],
   "source": [
    "# Archive processed files\n",
    "try:\n",
    "    # List all files in the source directory\n",
    "    files = dbutils.fs.ls(source_dir)\n",
    "    \n",
    "    archived_count = 0\n",
    "    for file in files:\n",
    "        if file.name.endswith('.csv'):\n",
    "            src_path = file.path\n",
    "            archive_path = archive_dir + file.name\n",
    "            \n",
    "            # Move the file to archive\n",
    "            dbutils.fs.mv(src_path, archive_path)\n",
    "            archived_count += 1\n",
    "            print(f\"Archived: {file.name}\")\n",
    "    \n",
    "    print(f\"Successfully archived {archived_count} files\")\n",
    "    \n",
    "except Exception as e:\n",
    "    print(f\"Error archiving files: {str(e)}\")\n",
    "    raise"
   ]
  },
  {
   "cell_type": "code",
   "execution_count": 0,
   "metadata": {
    "application/vnd.databricks.v1+cell": {
     "cellMetadata": {},
     "inputWidgets": {},
     "nuid": "0c0e342e-5e5d-47cf-a27f-f84944351794",
     "showTitle": false,
     "tableResultSettingsMap": {},
     "title": ""
    }
   },
   "outputs": [],
   "source": [
    "    # Log processing summary\n",
    "processing_summary = {\n",
    "    \"task\": \"orders_stage_load\",\n",
    "    \"timestamp\": datetime.now().isoformat(),\n",
    "    \"total_records\": total_records,\n",
    "    \"valid_records\": valid_records,\n",
    "    \"invalid_records\": invalid_records,\n",
    "    \"archived_files\": archived_count,\n",
    "    \"status\": \"SUCCESS\" if invalid_records == 0 else \"SUCCESS_WITH_WARNINGS\"\n",
    "}\n",
    "\n",
    "print(\"Processing Summary:\")\n",
    "print(json.dumps(processing_summary, indent=2))\n",
    "\n",
    "# Store summary in a table for monitoring\n",
    "summary_df = spark.createDataFrame([processing_summary])\n",
    "summary_df.write.format(\"delta\").mode(\"append\").saveAsTable(\"`external-catalog`.default.processing_log\")\n"
   ]
  },
  {
   "cell_type": "code",
   "execution_count": 0,
   "metadata": {
    "application/vnd.databricks.v1+cell": {
     "cellMetadata": {},
     "inputWidgets": {},
     "nuid": "6c8e0b87-2292-4bff-8e46-30a23252f7d6",
     "showTitle": false,
     "tableResultSettingsMap": {},
     "title": ""
    }
   },
   "outputs": [],
   "source": []
  }
 ],
 "metadata": {
  "application/vnd.databricks.v1+notebook": {
   "computePreferences": null,
   "dashboards": [],
   "environmentMetadata": {
    "base_environment": "",
    "environment_version": "3"
   },
   "inputWidgetPreferences": null,
   "language": "python",
   "notebookMetadata": {
    "pythonIndentUnit": 4
   },
   "notebookName": "01_orders_stage_load",
   "widgets": {}
  },
  "language_info": {
   "name": "python"
  }
 },
 "nbformat": 4,
 "nbformat_minor": 0
}